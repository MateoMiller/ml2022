{
 "cells": [
  {
   "cell_type": "code",
   "execution_count": null,
   "metadata": {
    "collapsed": true,
    "jupyter": {
     "outputs_hidden": true
    }
   },
   "outputs": [],
   "source": [
    "!pip install mlxtend\n",
    "!pip install scikit-plot"
   ]
  },
  {
   "cell_type": "code",
   "execution_count": 2,
   "metadata": {
    "collapsed": false,
    "jupyter": {
     "outputs_hidden": false
    },
    "pycharm": {
     "name": "#%%\n"
    }
   },
   "outputs": [],
   "source": [
    "import mlxtend, scikitplot\n",
    "import numpy as np"
   ]
  },
  {
   "cell_type": "code",
   "execution_count": 21,
   "metadata": {
    "collapsed": false,
    "jupyter": {
     "outputs_hidden": false
    },
    "pycharm": {
     "name": "#%%\n"
    }
   },
   "outputs": [],
   "source": [
    "p_pred = np.array([[ 0.8,  0.2],\n",
    "                   [ 0.6,  0.4],\n",
    "                   [ 0.2,  0.8],\n",
    "                   [ 0.3,  0.7],\n",
    "                   [ 0.4,  0.6]])\n",
    "\n",
    "y_real = np.array([0, 0, 1, 1, 1])"
   ]
  },
  {
   "cell_type": "code",
   "execution_count": 22,
   "metadata": {
    "collapsed": false,
    "jupyter": {
     "outputs_hidden": false
    },
    "pycharm": {
     "name": "#%%\n"
    }
   },
   "outputs": [
    {
     "data": {
      "text/plain": [
       "<AxesSubplot:title={'center':'Lift Curve'}, xlabel='Percentage of sample', ylabel='Lift'>"
      ]
     },
     "execution_count": 22,
     "metadata": {},
     "output_type": "execute_result"
    },
    {
     "data": {
      "image/png": "[encoded data removed]",
      "text/plain": [
       "<Figure size 432x288 with 1 Axes>"
      ]
     },
     "metadata": {
      "needs_background": "light"
     },
     "output_type": "display_data"
    }
   ],
   "source": [
    "scikitplot.metrics.plot_lift_curve(y_real, p_pred)"
   ]
  },
  {
   "cell_type": "code",
   "execution_count": null,
   "metadata": {
    "collapsed": false,
    "jupyter": {
     "outputs_hidden": false
    },
    "pycharm": {
     "name": "#%%\n"
    }
   },
   "outputs": [],
   "source": [
    "2.5, 1.3, 1.7, 1.3, "
   ]
  },
  {
   "cell_type": "code",
   "execution_count": 17,
   "metadata": {},
   "outputs": [],
   "source": [
    "y_pred = (p_pred[:,1] > 0.5).astype(int)"
   ]
  },
  {
   "cell_type": "code",
   "execution_count": 18,
   "metadata": {},
   "outputs": [
    {
     "data": {
      "text/plain": [
       "array([0, 0, 1, 1, 1])"
      ]
     },
     "execution_count": 18,
     "metadata": {},
     "output_type": "execute_result"
    }
   ],
   "source": [
    "y_pred"
   ]
  },
  {
   "cell_type": "code",
   "execution_count": 23,
   "metadata": {},
   "outputs": [],
   "source": [
    "tp = (y_real * y_pred).sum()\n",
    "fp = y_pred.sum() - tp\n",
    "tn = ((1 - y_real) * (1 - y_pred)).sum()\n",
    "fn = (1 - y_pred).sum() - tn\n",
    "accuracy = ((tp + fn)/ (tp + tn + fp + fn)) #общая точность\n",
    "precision = tp / (tp + fp) #точность определения таргета 1"
   ]
  },
  {
   "cell_type": "code",
   "execution_count": 27,
   "metadata": {},
   "outputs": [],
   "source": [
    "lift = (tp/(tp+fp)) / ((tp + fn)/ (tp + tn + fp + fn))"
   ]
  },
  {
   "cell_type": "code",
   "execution_count": 26,
   "metadata": {},
   "outputs": [],
   "source": [
    "from mlxtend.evaluate import lift_score"
   ]
  },
  {
   "cell_type": "code",
   "execution_count": 29,
   "metadata": {},
   "outputs": [],
   "source": [
    "p_pred = np.array([[ 0.8,  0.2],\n",
    "                   [ 0.6,  0.4],\n",
    "                   [ 0.5,  0.5],\n",
    "                   [ 0.3,  0.7],\n",
    "                   [ 0.2,  0.8]])\n",
    "\n",
    "y_pred = (p_pred[:,1] > 0.5).astype(int)\n",
    "y_real = np.array([0, 0, 1, 1, 1])"
   ]
  },
  {
   "cell_type": "code",
   "execution_count": 48,
   "metadata": {},
   "outputs": [],
   "source": [
    "import pandas as pd"
   ]
  },
  {
   "cell_type": "code",
   "execution_count": 62,
   "metadata": {},
   "outputs": [
    {
     "name": "stderr",
     "output_type": "stream",
     "text": [
      "/Users/stihin/opt/anaconda3/lib/python3.8/site-packages/mlxtend/evaluate/lift_score.py:72: RuntimeWarning: invalid value encountered in double_scalars\n",
      "  return (support(targ_tmp, pred_tmp) /\n"
     ]
    },
    {
     "data": {
      "text/plain": [
       "nan"
      ]
     },
     "execution_count": 62,
     "metadata": {},
     "output_type": "execute_result"
    }
   ],
   "source": [
    "lift_score(y_real[0:], p_pred[0:])"
   ]
  },
  {
   "cell_type": "code",
   "execution_count": 76,
   "metadata": {},
   "outputs": [],
   "source": [
    "y_real = np.array([  1,   1,   0,   0,   0,    1,   0,    1,   0,    1])\n",
    "p_pred = np.array([0.8, 0.8, 0.2, 0.2, 0.6, 0.41, 0.6, 0.61, 0.4, 0.61])"
   ]
  },
  {
   "cell_type": "code",
   "execution_count": 77,
   "metadata": {},
   "outputs": [
    {
     "name": "stdout",
     "output_type": "stream",
     "text": [
      "[0 0 0 1 0 0 1 1 1 1]\n"
     ]
    }
   ],
   "source": [
    "sort_y_by_pred = np.array([x for _, x in sorted(zip(p_pred, y_real))])\n",
    "print(sort_y_by_pred)"
   ]
  },
  {
   "cell_type": "code",
   "execution_count": 78,
   "metadata": {},
   "outputs": [
    {
     "data": {
      "text/plain": [
       "array([2.        , 2.        , 2.        , 2.        , 1.6       ,\n",
       "       1.33333333, 1.42857143, 1.25      , 1.11111111, 1.        ])"
      ]
     },
     "execution_count": 78,
     "metadata": {},
     "output_type": "execute_result"
    }
   ],
   "source": [
    "sort_y_by_pred = np.array([x for _, x in sorted(zip(p_pred, y_real))])\n",
    "ratio_of_all = sort_y_by_pred.mean()\n",
    "np.array([sort_y_by_pred[-i:].mean() / ratio_of_all for i in range(1, len(sort_y_by_pred)+1)])"
   ]
  },
  {
   "cell_type": "code",
   "execution_count": 79,
   "metadata": {},
   "outputs": [],
   "source": [
    "def lift_curve(y_val, y_pred, step=0.01):\n",
    "    aux_lift = pd.DataFrame()\n",
    "    #Create a real and predicted column for our new DataFrame and assign values\n",
    "    aux_lift['real'] = y_val\n",
    "    aux_lift['predicted'] = y_pred\n",
    "    #Order the values for the predicted probability column:\n",
    "    aux_lift.sort_values('predicted',ascending=False,inplace=True)\n",
    "\n",
    "    #Create the values that will go into the X axis of our plot\n",
    "    x_val = np.arange(step,1+step,step)\n",
    "    #Calculate the ratio of ones in our data\n",
    "    ratio_ones = aux_lift['real'].sum() / len(aux_lift)\n",
    "    #Create an empty vector with the values that will go on the Y axis our our plot\n",
    "    y_v = []\n",
    "\n",
    "    #Calculate for each x value its correspondent y value\n",
    "    for x in x_val:\n",
    "        num_data = int(np.ceil(x*len(aux_lift))) #The ceil function returns the closest integer bigger than our number \n",
    "        data_here = aux_lift.iloc[:num_data,:]   # ie. np.ceil(1.4) = 2\n",
    "        ratio_ones_here = data_here['real'].sum()/len(data_here)\n",
    "        y_v.append(ratio_ones_here / ratio_ones)\n",
    "    return y_v"
   ]
  },
  {
   "cell_type": "code",
   "execution_count": 80,
   "metadata": {},
   "outputs": [
    {
     "data": {
      "text/plain": [
       "[2.0,\n",
       " 2.0,\n",
       " 2.0,\n",
       " 2.0,\n",
       " 2.0,\n",
       " 2.0,\n",
       " 2.0,\n",
       " 2.0,\n",
       " 2.0,\n",
       " 2.0,\n",
       " 2.0,\n",
       " 2.0,\n",
       " 2.0,\n",
       " 2.0,\n",
       " 2.0,\n",
       " 2.0,\n",
       " 2.0,\n",
       " 2.0,\n",
       " 2.0,\n",
       " 2.0,\n",
       " 2.0,\n",
       " 2.0,\n",
       " 2.0,\n",
       " 2.0,\n",
       " 2.0,\n",
       " 2.0,\n",
       " 2.0,\n",
       " 2.0,\n",
       " 2.0,\n",
       " 2.0,\n",
       " 2.0,\n",
       " 2.0,\n",
       " 2.0,\n",
       " 2.0,\n",
       " 2.0,\n",
       " 2.0,\n",
       " 2.0,\n",
       " 2.0,\n",
       " 2.0,\n",
       " 2.0,\n",
       " 1.6,\n",
       " 1.6,\n",
       " 1.6,\n",
       " 1.6,\n",
       " 1.6,\n",
       " 1.6,\n",
       " 1.6,\n",
       " 1.6,\n",
       " 1.6,\n",
       " 1.6,\n",
       " 1.3333333333333333,\n",
       " 1.3333333333333333,\n",
       " 1.3333333333333333,\n",
       " 1.3333333333333333,\n",
       " 1.3333333333333333,\n",
       " 1.3333333333333333,\n",
       " 1.3333333333333333,\n",
       " 1.3333333333333333,\n",
       " 1.3333333333333333,\n",
       " 1.3333333333333333,\n",
       " 1.4285714285714286,\n",
       " 1.4285714285714286,\n",
       " 1.4285714285714286,\n",
       " 1.4285714285714286,\n",
       " 1.4285714285714286,\n",
       " 1.4285714285714286,\n",
       " 1.4285714285714286,\n",
       " 1.4285714285714286,\n",
       " 1.4285714285714286,\n",
       " 1.25,\n",
       " 1.25,\n",
       " 1.25,\n",
       " 1.25,\n",
       " 1.25,\n",
       " 1.25,\n",
       " 1.25,\n",
       " 1.25,\n",
       " 1.25,\n",
       " 1.25,\n",
       " 1.25,\n",
       " 1.1111111111111112,\n",
       " 1.1111111111111112,\n",
       " 1.1111111111111112,\n",
       " 1.1111111111111112,\n",
       " 1.1111111111111112,\n",
       " 1.1111111111111112,\n",
       " 1.1111111111111112,\n",
       " 1.1111111111111112,\n",
       " 1.1111111111111112,\n",
       " 1.1111111111111112,\n",
       " 1.0,\n",
       " 1.0,\n",
       " 1.0,\n",
       " 1.0,\n",
       " 1.0,\n",
       " 1.0,\n",
       " 1.0,\n",
       " 1.0,\n",
       " 1.0,\n",
       " 1.0]"
      ]
     },
     "execution_count": 80,
     "metadata": {},
     "output_type": "execute_result"
    }
   ],
   "source": [
    "lift_curve(y_real, p_pred)"
   ]
  },
  {
   "cell_type": "code",
   "execution_count": null,
   "metadata": {},
   "outputs": [],
   "source": []
  }
 ],
 "metadata": {
  "kernelspec": {
   "display_name": "Python 3",
   "language": "python",
   "name": "python3"
  },
  "language_info": {
   "codemirror_mode": {
    "name": "ipython",
    "version": 3
   },
   "file_extension": ".py",
   "mimetype": "text/x-python",
   "name": "python",
   "nbconvert_exporter": "python",
   "pygments_lexer": "ipython3",
   "version": "3.8.8"
  }
 },
 "nbformat": 4,
 "nbformat_minor": 4
}